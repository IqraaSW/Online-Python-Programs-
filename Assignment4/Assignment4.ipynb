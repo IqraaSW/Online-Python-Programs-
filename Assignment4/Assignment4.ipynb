{
 "cells": [
  {
   "cell_type": "markdown",
   "id": "77044431",
   "metadata": {},
   "source": [
    "# 1. Make a calculator using Python with addition , subtraction ,\n",
    "#    multiplication ,division and power."
   ]
  },
  {
   "cell_type": "code",
   "execution_count": 17,
   "id": "1f6a997c",
   "metadata": {},
   "outputs": [
    {
     "name": "stdout",
     "output_type": "stream",
     "text": [
      "Select operation.\n",
      "1.Add\n",
      "2.Subtract\n",
      "3.Multiply\n",
      "4.Divide\n",
      "5.Power\n",
      "Enter choice(1/2/3/4/5): 5\n",
      "Enter first number: 2\n",
      "Enter second number: 4\n",
      "2.0 ** 4.0 = 16.0\n",
      "Let's do next calculation? (yes/no): no\n"
     ]
    }
   ],
   "source": [
    "# Program make a simple calculator\n",
    "\n",
    "# This function adds two numbers\n",
    "def add(x, y):\n",
    "    return x + y\n",
    "\n",
    "# This function subtracts two numbers\n",
    "def subtract(x, y):\n",
    "    return x - y\n",
    "\n",
    "# This function multiplies two numbers\n",
    "def multiply(x, y):\n",
    "    return x * y\n",
    "\n",
    "# This function divides two numbers\n",
    "def divide(x, y):\n",
    "    return x / y\n",
    "# This function power two number\n",
    "def power(x,y):\n",
    "    return x**y\n",
    "\n",
    "\n",
    "print(\"Select operation.\")\n",
    "print(\"1.Add\")\n",
    "print(\"2.Subtract\")\n",
    "print(\"3.Multiply\")\n",
    "print(\"4.Divide\")\n",
    "print(\"5.Power\")\n",
    "\n",
    "while True:\n",
    "    # take input from the user\n",
    "    choice = input(\"Enter choice(1/2/3/4/5): \")\n",
    "\n",
    "    # check if choice is one of the five options\n",
    "    if choice in ('1', '2', '3', '4','5'):\n",
    "        num1 = float(input(\"Enter first number: \"))\n",
    "        num2 = float(input(\"Enter second number: \"))\n",
    "\n",
    "        if choice == '1':\n",
    "            print(num1, \"+\", num2, \"=\", add(num1, num2))\n",
    "\n",
    "        elif choice == '2':\n",
    "            print(num1, \"-\", num2, \"=\", subtract(num1, num2))\n",
    "\n",
    "        elif choice == '3':\n",
    "            print(num1, \"*\", num2, \"=\", multiply(num1, num2))\n",
    "\n",
    "        elif choice == '4':\n",
    "            print(num1, \"/\", num2, \"=\", divide(num1, num2))\n",
    "            \n",
    "        elif choice == '5':\n",
    "            print(num1, \"**\", num2, \"=\", power(num1, num2))    \n",
    "        \n",
    "        # check if user wants another calculation\n",
    "        # break the while loop if answer is no\n",
    "        next_calculation = input(\"Let's do next calculation? (yes/no): \")\n",
    "        if next_calculation == \"no\":\n",
    "          break\n",
    "    \n",
    "    else:\n",
    "        print(\"Invalid Input\")"
   ]
  },
  {
   "cell_type": "markdown",
   "id": "5ef531db",
   "metadata": {},
   "source": [
    "# 2. Write a program to check if there is any numeric value in list using for\n",
    "#    loop."
   ]
  },
  {
   "cell_type": "code",
   "execution_count": 19,
   "id": "7fb9da50",
   "metadata": {},
   "outputs": [
    {
     "name": "stdout",
     "output_type": "stream",
     "text": [
      "2\n",
      "3\n",
      "5\n"
     ]
    }
   ],
   "source": [
    "list = ['horse','cat','dog',2,3,5]\n",
    "for x in list:\n",
    "    if type(x) == int:\n",
    "        print(x)"
   ]
  },
  {
   "cell_type": "markdown",
   "id": "4d19ef70",
   "metadata": {},
   "source": [
    "# 3. Write a Python script to add a key to a dictionary."
   ]
  },
  {
   "cell_type": "code",
   "execution_count": 21,
   "id": "d38ebbfa",
   "metadata": {},
   "outputs": [
    {
     "name": "stdout",
     "output_type": "stream",
     "text": [
      "{40, 10, 50, 20, 60, 30}\n",
      "{100, 70, 40, 10, 80, 50, 20, 90, 60, 30}\n"
     ]
    }
   ],
   "source": [
    "a = {10,20,30,40,50,60}\n",
    "print(a)\n",
    "a.update({70,80,90,100})\n",
    "print(a)\n"
   ]
  },
  {
   "cell_type": "markdown",
   "id": "45b4201e",
   "metadata": {},
   "source": [
    "# 4. Write a Python program to sum all the numeric items in a dictionary."
   ]
  },
  {
   "cell_type": "code",
   "execution_count": 24,
   "id": "647e1d83",
   "metadata": {},
   "outputs": [
    {
     "name": "stdout",
     "output_type": "stream",
     "text": [
      "12\n"
     ]
    }
   ],
   "source": [
    "items = {'Milk Shake': 2, 'Chocolate shake': 4, 'Oreo Shake': 6}\n",
    "print(sum(items.values()))\n"
   ]
  },
  {
   "cell_type": "markdown",
   "id": "2a0727dc",
   "metadata": {},
   "source": [
    "# 5. Write a program to identify duplicate values from list."
   ]
  },
  {
   "cell_type": "code",
   "execution_count": 26,
   "id": "41829a11",
   "metadata": {},
   "outputs": [
    {
     "name": "stdout",
     "output_type": "stream",
     "text": [
      "2 3 4 5 "
     ]
    }
   ],
   "source": [
    "l=[1,2,3,4,5,2,3,4,7,9,5]\n",
    "l1=[]\n",
    "for i in l:\n",
    "    if i not in l1:\n",
    "        l1.append(i)\n",
    "    else:\n",
    "        print(i,end=' ')\n",
    "            \n"
   ]
  },
  {
   "cell_type": "markdown",
   "id": "5b040b42",
   "metadata": {},
   "source": [
    "# 6. Write a Python script to check if a given key already exists in a\n",
    "#   dictionary"
   ]
  },
  {
   "cell_type": "code",
   "execution_count": 30,
   "id": "56d8e198",
   "metadata": {},
   "outputs": [
    {
     "name": "stdout",
     "output_type": "stream",
     "text": [
      "Present,  value = 200\n",
      "Not present\n"
     ]
    }
   ],
   "source": [
    "def checkKey(dict, key):\n",
    "\n",
    "    if key in dict.keys():\n",
    "        print(\"Present, \", end =\" \")\n",
    "        print(\"value =\", dict[key])\n",
    "    else:\n",
    "        print(\"Not present\")\n",
    "\n",
    "dict = {'a': 100, 'b':200, 'c':300}\n",
    "\n",
    "key = 'b'\n",
    "checkKey(dict, key)\n",
    "\n",
    "key = 'w'\n",
    "checkKey(dict, key)\n"
   ]
  },
  {
   "cell_type": "code",
   "execution_count": null,
   "id": "7a911171",
   "metadata": {},
   "outputs": [],
   "source": []
  }
 ],
 "metadata": {
  "kernelspec": {
   "display_name": "Python 3",
   "language": "python",
   "name": "python3"
  },
  "language_info": {
   "codemirror_mode": {
    "name": "ipython",
    "version": 3
   },
   "file_extension": ".py",
   "mimetype": "text/x-python",
   "name": "python",
   "nbconvert_exporter": "python",
   "pygments_lexer": "ipython3",
   "version": "3.8.8"
  }
 },
 "nbformat": 4,
 "nbformat_minor": 5
}
