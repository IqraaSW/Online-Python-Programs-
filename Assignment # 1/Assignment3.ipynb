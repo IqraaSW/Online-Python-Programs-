{
 "cells": [
  {
   "cell_type": "code",
   "execution_count": 22,
   "id": "e3465e97",
   "metadata": {},
   "outputs": [
    {
     "name": "stdout",
     "output_type": "stream",
     "text": [
      "Twinkle, twinkle, little star, \n",
      "         How I wonder what you are! \n",
      "                 Up above the world so high, \n",
      "                 Like a diamond in the sky. \n",
      " Twinkle, twinkle little star, \n",
      "         How I wonder what you are!\n"
     ]
    }
   ],
   "source": [
    "#1. Write a Python program to print the following string in a specific format (see the\n",
    "#   output).\n",
    "\n",
    "    #Twinkle, twinkle, little star,\n",
    "    #           How I wonder what you are!\n",
    "    #                   Up above the world so high,\n",
    "    #                   Like a diamond in the sky.\n",
    "\n",
    "    #Twinkle, twinkle, little star,\n",
    "              #How I wonder what you are\n",
    "print(\"Twinkle, twinkle, little star, \\n         How I wonder what you are! \\n                 Up above the world so high, \\n                 Like a diamond in the sky. \\n Twinkle, twinkle little star, \\n         How I wonder what you are!\")"
   ]
  },
  {
   "cell_type": "code",
   "execution_count": 24,
   "id": "93b9674c",
   "metadata": {},
   "outputs": [
    {
     "name": "stdout",
     "output_type": "stream",
     "text": [
      "3.8.8\n"
     ]
    }
   ],
   "source": [
    "#2. Write a Python program to get the Python version you are using\n",
    "from platform import python_version\n",
    "print(python_version());"
   ]
  },
  {
   "cell_type": "code",
   "execution_count": 28,
   "id": "2ed890d8",
   "metadata": {},
   "outputs": [
    {
     "name": "stdout",
     "output_type": "stream",
     "text": [
      "Current date and time:2021-11-23 02:11:50\n"
     ]
    }
   ],
   "source": [
    "#3. Write a Python program to display the current date and time.\n",
    "\n",
    "import datetime\n",
    "now=datetime.datetime.now()\n",
    "print(\"Current date and time:\"+ now.strftime(\"%Y-%M-%d %H:%M:%S\"));"
   ]
  },
  {
   "cell_type": "code",
   "execution_count": 32,
   "id": "72ee9ff7",
   "metadata": {},
   "outputs": [
    {
     "name": "stdout",
     "output_type": "stream",
     "text": [
      "raduis of circle:3.2\n",
      "The area of radius of circle  3.2 is 32.169908772759484\n"
     ]
    }
   ],
   "source": [
    "#4. Write a Python program which accepts the radius of a circle from the user and compute\n",
    "#   the area.\n",
    "from math import pi\n",
    "r=float(input(\"raduis of circle:\"))\n",
    "print(\"The area of radius of circle  \" + str(r)+\" is \"+str(pi*r**2));\n"
   ]
  },
  {
   "cell_type": "code",
   "execution_count": null,
   "id": "4c1ff7c1",
   "metadata": {},
   "outputs": [],
   "source": [
    "#5. Write a Python program which accepts the user's first and last name and print them in\n",
    "#   reverse order with a space between them.\n",
    "user_first=str(input(\"User First Name:\"))\n",
    "user_last=str(input(\"User last name:\"))\n",
    "for char in range(len(user_first)-1,-1,-1);\n",
    "  print(user_first[char], end=\"\")\n",
    "for char in range(len(user_last)-1,-1,-1);   \n",
    "    print(user_last[char], end=\"\")\n",
    "    print(\"after reversing name:\" user_first + user_last);\n",
    "    \n"
   ]
  },
  {
   "cell_type": "code",
   "execution_count": null,
   "id": "daa1bf32",
   "metadata": {},
   "outputs": [],
   "source": [
    "#6. Write a python program which takes two inputs from user and print them addition\n",
    "\n",
    "x=int(input(\"enter value1 \\n\"))\n",
    "y=int(input(\"enter value2  \\n\"))\n",
    "z=x+y;\n",
    "print(\"Output\")\n",
    "print(z)"
   ]
  },
  {
   "cell_type": "code",
   "execution_count": 55,
   "id": "2d7d8dba",
   "metadata": {},
   "outputs": [
    {
     "name": "stdout",
     "output_type": "stream",
     "text": [
      "Grade A+\n"
     ]
    }
   ],
   "source": [
    "#7. Write a program which takes 5 inputs from user for different subject’s marks, total it\n",
    "#   and generate mark sheet using grades ?\n",
    "\n",
    "DSA=90\n",
    "MAD=89\n",
    "TBW=98\n",
    "SPM=79\n",
    "DS=89\n",
    "total=500\n",
    "percent=(DSA+MAD+TBW+SPM+DS)/total*100\n",
    "if percent<100 and percent>80:\n",
    "    print(\"Grade A+\")\n",
    "elif percent<80 and percent>70:\n",
    "    print(\"Grade A\")\n",
    "elif percent<70 and percent>60:\n",
    "    print(\"Grade B\")\n",
    "elif percent<60 and percent>50:\n",
    "    print(\"Grade C\")\n",
    "elif percent<50 and percent>40:\n",
    "    print(\"Grade D\")\n",
    "elif percent<40 and percent>=33:\n",
    "    print(\"Grade E\")\n",
    "elif percent<0 and percent>100:\n",
    "    print(\"You did not ertite percent properly\")\n",
    "else:\n",
    "    print(\"Something wrong!\")"
   ]
  },
  {
   "cell_type": "code",
   "execution_count": 65,
   "id": "68426388",
   "metadata": {},
   "outputs": [
    {
     "name": "stdout",
     "output_type": "stream",
     "text": [
      "Enter the number2\n",
      "Number is  Even\n"
     ]
    }
   ],
   "source": [
    "#8. Write a program which take input from user and identify that the given number is even\n",
    "or odd?\n",
    "def find(num):\n",
    "    if num%2 == 0:\n",
    "        numtype=\"Even\"\n",
    "    else:\n",
    "        numtype=\"Odd\"\n",
    "    return numtype\n",
    "num=int(input(\"Enter the number\"))\n",
    "numtype=find(num)\n",
    "print(\"Number is  \"+ numtype)\n",
    "    \n",
    "    "
   ]
  },
  {
   "cell_type": "code",
   "execution_count": 66,
   "id": "2651ddbc",
   "metadata": {},
   "outputs": [
    {
     "name": "stdout",
     "output_type": "stream",
     "text": [
      "9\n"
     ]
    }
   ],
   "source": [
    "#9. Write a program which print the length of the list?\n",
    "arr=[\"Iqra\",\"Mahrukh\",\"Unza\",\"Rabia\",\"Neha\",\"Hafsa\",\"Tehreem\",\"Quratualin\",\"Tazeem\"]\n",
    "print(len(arr));"
   ]
  },
  {
   "cell_type": "code",
   "execution_count": 67,
   "id": "5cca4f47",
   "metadata": {},
   "outputs": [
    {
     "name": "stdout",
     "output_type": "stream",
     "text": [
      "21\n"
     ]
    }
   ],
   "source": [
    "#10. Write a Python program to sum all the numeric items in a list?\n",
    "aa=[1,2,3,4,5,6]\n",
    "arr=aa[0]+aa[1]+aa[2]+aa[3]+aa[4]+aa[5]\n",
    "print(arr)"
   ]
  },
  {
   "cell_type": "code",
   "execution_count": 86,
   "id": "3c8fcc74",
   "metadata": {},
   "outputs": [
    {
     "name": "stdout",
     "output_type": "stream",
     "text": [
      "Largest element is: 99\n"
     ]
    }
   ],
   "source": [
    "#11. Write a Python program to get the largest number from a numeric list.\n",
    "list1 = [10, 20, 4, 45, 99]\n",
    "list1.sort()\n",
    "print(\"Largest element is:\", list1[-1])\n",
    "   "
   ]
  },
  {
   "cell_type": "code",
   "execution_count": 87,
   "id": "85e0c7ce",
   "metadata": {},
   "outputs": [
    {
     "name": "stdout",
     "output_type": "stream",
     "text": [
      "[1, 1, 2, 3]\n"
     ]
    }
   ],
   "source": [
    "#12. Take a list, say for example this one:\n",
    "#    a = [1, 1, 2, 3, 5, 8, 13, 21, 34, 55, 89]\n",
    "#    Write a program that prints out all the elements of the list that are less than 5.\n",
    "\n",
    "a=[1,1,2,3,5,8,13,21,34,55,89]\n",
    "x=list(filter(lambda k:k<5,a))\n",
    "print(x)"
   ]
  },
  {
   "cell_type": "code",
   "execution_count": null,
   "id": "169405d1",
   "metadata": {},
   "outputs": [],
   "source": []
  }
 ],
 "metadata": {
  "kernelspec": {
   "display_name": "Python 3",
   "language": "python",
   "name": "python3"
  },
  "language_info": {
   "codemirror_mode": {
    "name": "ipython",
    "version": 3
   },
   "file_extension": ".py",
   "mimetype": "text/x-python",
   "name": "python",
   "nbconvert_exporter": "python",
   "pygments_lexer": "ipython3",
   "version": "3.8.8"
  }
 },
 "nbformat": 4,
 "nbformat_minor": 5
}
