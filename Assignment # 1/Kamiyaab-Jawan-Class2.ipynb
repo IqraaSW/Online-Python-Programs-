{
 "cells": [
  {
   "cell_type": "code",
   "execution_count": 1,
   "id": "7420508d",
   "metadata": {},
   "outputs": [
    {
     "name": "stdout",
     "output_type": "stream",
     "text": [
      "12\n"
     ]
    }
   ],
   "source": [
    "f=10\n",
    "f=12\n",
    "print(f)"
   ]
  },
  {
   "cell_type": "code",
   "execution_count": 2,
   "id": "ba9fcd45",
   "metadata": {},
   "outputs": [
    {
     "name": "stdout",
     "output_type": "stream",
     "text": [
      "7\n"
     ]
    }
   ],
   "source": [
    "g=5\n",
    "g=g+2\n",
    "print(g)"
   ]
  },
  {
   "cell_type": "code",
   "execution_count": 3,
   "id": "34d293aa",
   "metadata": {},
   "outputs": [
    {
     "name": "stdout",
     "output_type": "stream",
     "text": [
      "6\n"
     ]
    }
   ],
   "source": [
    "a=3;\n",
    "a+=3;\n",
    "print(a)"
   ]
  },
  {
   "cell_type": "code",
   "execution_count": 5,
   "id": "07cc243f",
   "metadata": {},
   "outputs": [
    {
     "name": "stdout",
     "output_type": "stream",
     "text": [
      "Allow for Car\n"
     ]
    }
   ],
   "source": [
    "gender=\"female\"\n",
    "if gender == \"female\":\n",
    "    print(\"Allow for Car\");\n"
   ]
  },
  {
   "cell_type": "code",
   "execution_count": 11,
   "id": "9c522740",
   "metadata": {},
   "outputs": [
    {
     "name": "stdout",
     "output_type": "stream",
     "text": [
      "Rok lo\n"
     ]
    }
   ],
   "source": [
    "gender=\"female\"\n",
    "if gender == \"male\":\n",
    "    print(\"Allow for Car\");\n",
    "else:\n",
    "    print(\"Rok lo\");\n"
   ]
  },
  {
   "cell_type": "code",
   "execution_count": 12,
   "id": "e1faa9d2",
   "metadata": {},
   "outputs": [
    {
     "name": "stdout",
     "output_type": "stream",
     "text": [
      "Allow for Car\n"
     ]
    }
   ],
   "source": [
    "gender=\"female\"\n",
    "if gender != \"male\":\n",
    "    print(\"Allow for Car\");\n",
    "else:\n",
    "    print(\"Rok lo\");"
   ]
  },
  {
   "cell_type": "code",
   "execution_count": 15,
   "id": "bff81dff",
   "metadata": {},
   "outputs": [
    {
     "name": "stdout",
     "output_type": "stream",
     "text": [
      "Rok LO\n"
     ]
    }
   ],
   "source": [
    "age=14;\n",
    "gender=\"female\";\n",
    "if age > 18 or gender == \"male\":\n",
    "    print(\"allow for Ride\")\n",
    "else:\n",
    "    print(\"Rok LO\")"
   ]
  },
  {
   "cell_type": "code",
   "execution_count": 8,
   "id": "4b4683a2",
   "metadata": {},
   "outputs": [
    {
     "name": "stdout",
     "output_type": "stream",
     "text": [
      "Grade A\n"
     ]
    }
   ],
   "source": [
    "percent = 72;\n",
    "if percent < 100 and percent > 80:\n",
    "    print(\"Grade A+\");\n",
    "elif percent < 80 and percent > 70:\n",
    "    print(\"Grade A\");\n",
    "elif percent < 70 and percent > 60:\n",
    "    print(\"Grade B+\");\n",
    "elif percent < 60 and percent > 50:\n",
    "    print(\"Grade B\");\n",
    "elif percent < 50 and percent > 40:\n",
    "    print(\"Grade C\");\n",
    "elif percent < 40 and percent > 30:\n",
    "    print(\"Grade D\");\n",
    "elif percent < 30 and percent > 20:  \n",
    "    print(\"Grade F\");\n",
    "else:\n",
    "    print(\"Fail\");"
   ]
  },
  {
   "cell_type": "code",
   "execution_count": null,
   "id": "9e326da5",
   "metadata": {},
   "outputs": [],
   "source": []
  }
 ],
 "metadata": {
  "kernelspec": {
   "display_name": "Python 3",
   "language": "python",
   "name": "python3"
  },
  "language_info": {
   "codemirror_mode": {
    "name": "ipython",
    "version": 3
   },
   "file_extension": ".py",
   "mimetype": "text/x-python",
   "name": "python",
   "nbconvert_exporter": "python",
   "pygments_lexer": "ipython3",
   "version": "3.8.8"
  }
 },
 "nbformat": 4,
 "nbformat_minor": 5
}
