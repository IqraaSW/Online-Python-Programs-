{
 "cells": [
  {
   "cell_type": "code",
   "execution_count": 1,
   "id": "17bb5df5",
   "metadata": {},
   "outputs": [
    {
     "name": "stdout",
     "output_type": "stream",
     "text": [
      "Grade A\n"
     ]
    }
   ],
   "source": [
    "eng=50\n",
    "isl=89\n",
    "math=98\n",
    "total=300\n",
    "percent=(eng+isl+math)/total*100\n",
    "if percent<100 and percent>80:\n",
    "    print(\"Grade A+\")\n",
    "elif percent<80 and percent>70:\n",
    "    print(\"Grade A\")\n",
    "elif percent<70 and percent>60:\n",
    "    print(\"Grade B\")\n",
    "elif percent<60 and percent>50:\n",
    "    print(\"Grade C\")\n",
    "elif percent<50 and percent>40:\n",
    "    print(\"Grade D\")\n",
    "elif percent<40 and percent>=33:\n",
    "    print(\"Grade E\")\n",
    "elif percent<0 and percent>100:\n",
    "    print(\"You did not ertite percent properly\")\n",
    "else:\n",
    "    print(\"Something wrong!\")\n",
    "\n",
    "    \n",
    "\n"
   ]
  },
  {
   "cell_type": "code",
   "execution_count": 5,
   "id": "56a19be6",
   "metadata": {},
   "outputs": [
    {
     "name": "stdout",
     "output_type": "stream",
     "text": [
      "Enter eng marks56\n",
      "Enter IT marks:77\n",
      "Enter math marks:99\n",
      "Grade A\n"
     ]
    }
   ],
   "source": [
    "eng=int(input(\"Enter eng marks\"))\n",
    "isl=int(input(\"Enter IT marks:\"))\n",
    "math=int(input(\"Enter math marks:\"))\n",
    "total=300\n",
    "percent=(eng+isl+math)/total*100\n",
    "if percent<100 and percent>80:\n",
    "    print(\"Grade A+\")\n",
    "elif percent<80 and percent>70:\n",
    "    print(\"Grade A\")\n",
    "elif percent<70 and percent>60:\n",
    "    print(\"Grade B\")\n",
    "elif percent<60 and percent>50:\n",
    "    print(\"Grade C\")\n",
    "elif percent<50 and percent>40:\n",
    "    print(\"Grade D\")\n",
    "elif percent<40 and percent>=33:\n",
    "    print(\"Grade E\")\n",
    "elif percent<0 and percent>100:\n",
    "    print(\"You did not ertite percent properly\")\n",
    "else:\n",
    "    print(\"Something wrong!\")"
   ]
  },
  {
   "cell_type": "code",
   "execution_count": 4,
   "id": "4ad3b650",
   "metadata": {
    "scrolled": true
   },
   "outputs": [
    {
     "name": "stdout",
     "output_type": "stream",
     "text": [
      "enter value56\n",
      "91\n"
     ]
    }
   ],
   "source": [
    "x=int(input(\"enter value\"))\n",
    "y=35\n",
    "z=x+y;\n",
    "print(z)"
   ]
  },
  {
   "cell_type": "code",
   "execution_count": 6,
   "id": "dcd98be3",
   "metadata": {},
   "outputs": [
    {
     "name": "stdout",
     "output_type": "stream",
     "text": [
      "enter value66\n",
      "101\n"
     ]
    }
   ],
   "source": [
    "x=input(\"enter value\")\n",
    "y=35\n",
    "z=int(x)+y;\n",
    "print(z)"
   ]
  },
  {
   "cell_type": "code",
   "execution_count": 10,
   "id": "617e3cba",
   "metadata": {},
   "outputs": [
    {
     "name": "stdout",
     "output_type": "stream",
     "text": [
      "Enter ur Nameiqra\n",
      "Your name:iqra\n"
     ]
    }
   ],
   "source": [
    "x=input(\"Enter ur Name\")\n",
    "z=str(x);\n",
    "print(\"Your name:\"+ z)"
   ]
  },
  {
   "cell_type": "code",
   "execution_count": 11,
   "id": "5e11b11e",
   "metadata": {},
   "outputs": [
    {
     "name": "stdout",
     "output_type": "stream",
     "text": [
      "9\n"
     ]
    }
   ],
   "source": [
    "x=3**2\n",
    "print(x)"
   ]
  },
  {
   "cell_type": "code",
   "execution_count": 13,
   "id": "42f1362a",
   "metadata": {},
   "outputs": [
    {
     "name": "stdout",
     "output_type": "stream",
     "text": [
      "81\n"
     ]
    }
   ],
   "source": [
    "x=3**4\n",
    "print(x)"
   ]
  },
  {
   "cell_type": "code",
   "execution_count": 15,
   "id": "fc0ce10f",
   "metadata": {},
   "outputs": [
    {
     "name": "stdout",
     "output_type": "stream",
     "text": [
      "Assalamu\n",
      "alaykum \n"
     ]
    }
   ],
   "source": [
    "print(\"Assalamu\\nalaykum \")"
   ]
  },
  {
   "cell_type": "code",
   "execution_count": 17,
   "id": "ae6b8193",
   "metadata": {},
   "outputs": [
    {
     "name": "stdout",
     "output_type": "stream",
     "text": [
      "True\n"
     ]
    }
   ],
   "source": [
    "x=10\n",
    "y=12\n",
    "a=30\n",
    "b=8\n",
    "if x+y == a-b:\n",
    "    print(True);\n",
    "else:\n",
    "    print(False);"
   ]
  },
  {
   "cell_type": "code",
   "execution_count": 18,
   "id": "f9bf128d",
   "metadata": {},
   "outputs": [
    {
     "name": "stdout",
     "output_type": "stream",
     "text": [
      "Enter age18\n",
      "Enter genderfemale\n",
      "Dont allow\n"
     ]
    }
   ],
   "source": [
    "age=int(input(\"Enter age\"));\n",
    "gender=input(\"Enter gender\");\n",
    "if age>18 and gender==\"male\":\n",
    "    print(\"ALLOW\");\n",
    "else:\n",
    "    print(\"Dont allow\")\n",
    "    "
   ]
  },
  {
   "cell_type": "code",
   "execution_count": 19,
   "id": "a8fa1369",
   "metadata": {},
   "outputs": [
    {
     "name": "stdout",
     "output_type": "stream",
     "text": [
      "Enter age18\n",
      "Enter gendermale\n",
      "ALLOW\n"
     ]
    }
   ],
   "source": [
    "age=int(input(\"Enter age\"));\n",
    "gender=input(\"Enter gender\");\n",
    "if age>=18 and gender==\"male\":\n",
    "    print(\"ALLOW\");\n",
    "else:\n",
    "    print(\"Dont allow\")"
   ]
  },
  {
   "cell_type": "code",
   "execution_count": 20,
   "id": "3b01251d",
   "metadata": {},
   "outputs": [
    {
     "name": "stdout",
     "output_type": "stream",
     "text": [
      "Enter age15\n",
      "Enter gendermale\n",
      "ALLOW\n"
     ]
    }
   ],
   "source": [
    "age=int(input(\"Enter age\"));\n",
    "gender=input(\"Enter gender\");\n",
    "if age>=18 or gender==\"male\":\n",
    "    print(\"ALLOW\");\n",
    "else:\n",
    "    print(\"Dont allow\")"
   ]
  },
  {
   "cell_type": "code",
   "execution_count": 22,
   "id": "fefe3169",
   "metadata": {},
   "outputs": [
    {
     "name": "stdout",
     "output_type": "stream",
     "text": [
      "iqra,mmm,nnnnn\n"
     ]
    }
   ],
   "source": [
    "name1=\"iqra\"\n",
    "name2=\"mmm\"\n",
    "name3=\"nnnnn\"\n",
    "print(name1+\",\"+name2+\",\"+name3)"
   ]
  },
  {
   "cell_type": "code",
   "execution_count": 23,
   "id": "9d87e941",
   "metadata": {},
   "outputs": [
    {
     "name": "stdout",
     "output_type": "stream",
     "text": [
      "['zz', 'iqra', 'ii', 'gggg', 'loooooool']\n"
     ]
    }
   ],
   "source": [
    "#list\n",
    "name=[\"zz\",\"iqra\",\"ii\",\"gggg\",\"loooooool\"];\n",
    "print(name);"
   ]
  },
  {
   "cell_type": "code",
   "execution_count": 24,
   "id": "53ed4e89",
   "metadata": {},
   "outputs": [
    {
     "name": "stdout",
     "output_type": "stream",
     "text": [
      "['zz', 'Ali', 'ii', 'gggg', 'loooooool']\n"
     ]
    }
   ],
   "source": [
    "name[1]=\"Ali\"\n",
    "print(name);"
   ]
  },
  {
   "cell_type": "code",
   "execution_count": 25,
   "id": "aa3f5afa",
   "metadata": {},
   "outputs": [
    {
     "name": "stdout",
     "output_type": "stream",
     "text": [
      "['zz', 'Ali', 'ii', 'gggg', 'loooooool', 'Ahmed']\n"
     ]
    }
   ],
   "source": [
    "name.append(\"Ahmed\");\n",
    "print(name);"
   ]
  },
  {
   "cell_type": "code",
   "execution_count": 27,
   "id": "52d5ce2d",
   "metadata": {},
   "outputs": [
    {
     "name": "stdout",
     "output_type": "stream",
     "text": [
      "['flower', 'yellow', 12, True, 5.69]\n"
     ]
    }
   ],
   "source": [
    "arr=[\"flower\",\"yellow\",12,True,5.69]\n",
    "print(arr)"
   ]
  },
  {
   "cell_type": "code",
   "execution_count": 28,
   "id": "a06f66e1",
   "metadata": {},
   "outputs": [
    {
     "data": {
      "text/plain": [
       "['zz', 'Ali', 'ii', 'gggg', 'loooooool', 'Ahmed']"
      ]
     },
     "execution_count": 28,
     "metadata": {},
     "output_type": "execute_result"
    }
   ],
   "source": [
    "name"
   ]
  },
  {
   "cell_type": "code",
   "execution_count": 29,
   "id": "8ec36ef0",
   "metadata": {},
   "outputs": [
    {
     "name": "stdout",
     "output_type": "stream",
     "text": [
      "['zz', 'Ali', 'ii', 'gggg', 'loooooool', 'Ahmed', 'flower', 'yellow', 12, True, 5.69]\n"
     ]
    }
   ],
   "source": [
    "newList=name+arr;\n",
    "print(newList);\n"
   ]
  },
  {
   "cell_type": "code",
   "execution_count": 30,
   "id": "3f09a6e1",
   "metadata": {},
   "outputs": [
    {
     "name": "stdout",
     "output_type": "stream",
     "text": [
      "None\n"
     ]
    }
   ],
   "source": [
    "name=name.insert(3,\"Iqra\")\n",
    "print(name)"
   ]
  },
  {
   "cell_type": "code",
   "execution_count": 31,
   "id": "a1e039c6",
   "metadata": {},
   "outputs": [],
   "source": [
    "name"
   ]
  },
  {
   "cell_type": "code",
   "execution_count": 33,
   "id": "7d1fe9ab",
   "metadata": {},
   "outputs": [
    {
     "name": "stdout",
     "output_type": "stream",
     "text": [
      "['flower', 'yellow', 'haaris', 'Iqra', 12, True, 5.69]\n"
     ]
    }
   ],
   "source": [
    "arr.insert(2,\"haaris\")\n",
    "print(arr)"
   ]
  },
  {
   "cell_type": "raw",
   "id": "32bdfd90",
   "metadata": {},
   "source": []
  },
  {
   "cell_type": "code",
   "execution_count": 34,
   "id": "9248e116",
   "metadata": {},
   "outputs": [
    {
     "name": "stdout",
     "output_type": "stream",
     "text": [
      "['haaris', 'Iqra']\n"
     ]
    }
   ],
   "source": [
    "arr2=arr[2:4]\n",
    "print(arr2)"
   ]
  },
  {
   "cell_type": "code",
   "execution_count": 35,
   "id": "0074751f",
   "metadata": {},
   "outputs": [
    {
     "data": {
      "text/plain": [
       "['flower', 'yellow', 'haaris', 'Iqra', 12, True, 5.69]"
      ]
     },
     "execution_count": 35,
     "metadata": {},
     "output_type": "execute_result"
    }
   ],
   "source": [
    "arr\n"
   ]
  },
  {
   "cell_type": "code",
   "execution_count": 36,
   "id": "d8c88a99",
   "metadata": {},
   "outputs": [
    {
     "data": {
      "text/plain": [
       "['haaris', 'Iqra']"
      ]
     },
     "execution_count": 36,
     "metadata": {},
     "output_type": "execute_result"
    }
   ],
   "source": [
    "arr2"
   ]
  },
  {
   "cell_type": "code",
   "execution_count": 38,
   "id": "bc29c30f",
   "metadata": {},
   "outputs": [
    {
     "name": "stdout",
     "output_type": "stream",
     "text": [
      "['haaris', 'Iqra', 12]\n"
     ]
    }
   ],
   "source": [
    "arr3=arr[2:5]\n",
    "print(arr3)"
   ]
  },
  {
   "cell_type": "code",
   "execution_count": 39,
   "id": "11aa144d",
   "metadata": {},
   "outputs": [
    {
     "name": "stdout",
     "output_type": "stream",
     "text": [
      "['flower', 'yellow', 'haaris']\n"
     ]
    }
   ],
   "source": [
    "arr4=arr[:3]\n",
    "print(arr4)"
   ]
  },
  {
   "cell_type": "code",
   "execution_count": 40,
   "id": "a61fe681",
   "metadata": {},
   "outputs": [
    {
     "name": "stdout",
     "output_type": "stream",
     "text": [
      "['Iqra', 12, True, 5.69]\n"
     ]
    }
   ],
   "source": [
    "arr5=arr[3:]\n",
    "print(arr5)"
   ]
  },
  {
   "cell_type": "code",
   "execution_count": 41,
   "id": "d0136c6f",
   "metadata": {},
   "outputs": [
    {
     "name": "stdout",
     "output_type": "stream",
     "text": [
      "['flower', 'yellow', 'Iqra', 12, True, 5.69]\n"
     ]
    }
   ],
   "source": [
    "del arr[2]\n",
    "print(arr)"
   ]
  },
  {
   "cell_type": "code",
   "execution_count": 42,
   "id": "f229ff38",
   "metadata": {},
   "outputs": [
    {
     "name": "stdout",
     "output_type": "stream",
     "text": [
      "['flower', 'yellow', 'Iqra', True, 5.69]\n"
     ]
    }
   ],
   "source": [
    "arr.remove(12);\n",
    "print(arr)"
   ]
  },
  {
   "cell_type": "code",
   "execution_count": 43,
   "id": "b720e1ac",
   "metadata": {},
   "outputs": [
    {
     "name": "stdout",
     "output_type": "stream",
     "text": [
      "['flower', 'yellow', 'Iqra', True]\n"
     ]
    }
   ],
   "source": [
    "arr.pop()\n",
    "print(arr)"
   ]
  },
  {
   "cell_type": "code",
   "execution_count": null,
   "id": "88d412e6",
   "metadata": {},
   "outputs": [],
   "source": []
  }
 ],
 "metadata": {
  "kernelspec": {
   "display_name": "Python 3",
   "language": "python",
   "name": "python3"
  },
  "language_info": {
   "codemirror_mode": {
    "name": "ipython",
    "version": 3
   },
   "file_extension": ".py",
   "mimetype": "text/x-python",
   "name": "python",
   "nbconvert_exporter": "python",
   "pygments_lexer": "ipython3",
   "version": "3.8.8"
  }
 },
 "nbformat": 4,
 "nbformat_minor": 5
}
